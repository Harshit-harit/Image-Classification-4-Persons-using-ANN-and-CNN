{
 "cells": [
  {
   "cell_type": "code",
   "execution_count": 12,
   "metadata": {},
   "outputs": [],
   "source": [
    "from keras.preprocessing.image import ImageDataGenerator, array_to_img, img_to_array, load_img \n",
    "import os\n",
    "   \n",
    "datagen = ImageDataGenerator(rotation_range = 40, shear_range = 0.2, \n",
    "                             zoom_range = 0.3, horizontal_flip = True,\n",
    "                             width_shift_range=0.1,\n",
    "                             height_shift_range=0.1,\n",
    "                             brightness_range = (0.5, 3.0)) \n",
    "    \n",
    "img_path=\"img\"\n",
    "images=[]\n",
    "for im in os.listdir(img_path):\n",
    "    images.append(os.path.join(img_path,im))\n"
   ]
  },
  {
   "cell_type": "code",
   "execution_count": 1,
   "metadata": {},
   "outputs": [],
   "source": [
    "for i in images:\n",
    "        img = load_img(i)    #loading \n",
    "        x = img_to_array(img) #converting image to array\n",
    "        x = x.reshape((1, ) + x.shape)  \n",
    "        i=0\n",
    "        for batch in datagen.flow(x, batch_size = 1,save_to_dir ='preview',save_prefix ='Navn', save_format ='jpeg'): \n",
    "            i += 1\n",
    "            if i > 139: \n",
    "                break\n"
   ]
  },
  {
   "cell_type": "code",
   "execution_count": 2,
   "metadata": {},
   "outputs": [
    {
     "ename": "SyntaxError",
     "evalue": "EOF while scanning triple-quoted string literal (<ipython-input-2-e00e6e899548>, line 36)",
     "output_type": "error",
     "traceback": [
      "\u001b[1;36m  File \u001b[1;32m\"<ipython-input-2-e00e6e899548>\"\u001b[1;36m, line \u001b[1;32m36\u001b[0m\n\u001b[1;33m    \u001b[0m\n\u001b[1;37m    ^\u001b[0m\n\u001b[1;31mSyntaxError\u001b[0m\u001b[1;31m:\u001b[0m EOF while scanning triple-quoted string literal\n"
     ]
    }
   ],
   "source": [
    "    \n",
    "'''for i in images:    \n",
    "    if str(i.split('(')[0])=='img\\Hemu':\n",
    "    \n",
    "        img = load_img(i)  \n",
    "        x = img_to_array(img) \n",
    "        x = x.reshape((1, ) + x.shape)  \n",
    "        i=0\n",
    "        for batch in datagen.flow(x, batch_size = 1,save_to_dir ='preview',save_prefix ='Hemu', save_format ='jpeg'): \n",
    "            i += 1\n",
    "            if i > 6: \n",
    "                break\n",
    "             \n",
    "        \n",
    "    elif str(i.split('(')[0])=='img\\Moin':\n",
    "        img = load_img(i)  \n",
    "        x = img_to_array(img) \n",
    "        x = x.reshape((1, ) + x.shape)  \n",
    "        i=0\n",
    "        for batch in datagen.flow(x, batch_size = 1,save_to_dir ='preview',save_prefix ='Moi', save_format ='jpeg'): \n",
    "            i += 1\n",
    "            if i > 6: \n",
    "                break\n",
    "        \n",
    "    if str(i.split('()')[0])=='img\\Sahil':\n",
    "        img = load_img(i)  \n",
    "        x = img_to_array(img) \n",
    "        x = x.reshape((1, ) + x.shape)  \n",
    "        i=0\n",
    "        for batch in datagen.flow(x, batch_size = 1,save_to_dir ='preview',save_prefix ='Sahil', save_format ='jpeg'): \n",
    "            i += 1\n",
    "            if i > 6: \n",
    "                break\n",
    "        \n",
    "    \n",
    "    \n",
    "    "
   ]
  },
  {
   "cell_type": "code",
   "execution_count": null,
   "metadata": {},
   "outputs": [],
   "source": [
    "\n",
    "        "
   ]
  },
  {
   "cell_type": "code",
   "execution_count": null,
   "metadata": {},
   "outputs": [],
   "source": [
    "\n"
   ]
  },
  {
   "cell_type": "code",
   "execution_count": null,
   "metadata": {},
   "outputs": [],
   "source": []
  }
 ],
 "metadata": {
  "kernelspec": {
   "display_name": "Python 3",
   "language": "python",
   "name": "python3"
  },
  "language_info": {
   "codemirror_mode": {
    "name": "ipython",
    "version": 3
   },
   "file_extension": ".py",
   "mimetype": "text/x-python",
   "name": "python",
   "nbconvert_exporter": "python",
   "pygments_lexer": "ipython3",
   "version": "3.7.7"
  }
 },
 "nbformat": 4,
 "nbformat_minor": 4
}
