{
 "cells": [
  {
   "cell_type": "markdown",
   "metadata": {},
   "source": [
    "\n",
    "# CV2 for Image processing\n",
    "# Numpy for Array Processing\n",
    "# OS for dealing with directory\n",
    "# tqdm for showing the progress in graphics(Progress Bar)\n",
    "# tflearn For making CNN\n",
    "# keras for Image augmentation"
   ]
  },
  {
   "cell_type": "code",
   "execution_count": 1,
   "metadata": {},
   "outputs": [
    {
     "name": "stderr",
     "output_type": "stream",
     "text": [
      "C:\\Users\\harsh\\anaconda3\\lib\\site-packages\\tensorflow\\python\\framework\\dtypes.py:526: FutureWarning: Passing (type, 1) or '1type' as a synonym of type is deprecated; in a future version of numpy, it will be understood as (type, (1,)) / '(1,)type'.\n",
      "  _np_qint8 = np.dtype([(\"qint8\", np.int8, 1)])\n",
      "C:\\Users\\harsh\\anaconda3\\lib\\site-packages\\tensorflow\\python\\framework\\dtypes.py:527: FutureWarning: Passing (type, 1) or '1type' as a synonym of type is deprecated; in a future version of numpy, it will be understood as (type, (1,)) / '(1,)type'.\n",
      "  _np_quint8 = np.dtype([(\"quint8\", np.uint8, 1)])\n",
      "C:\\Users\\harsh\\anaconda3\\lib\\site-packages\\tensorflow\\python\\framework\\dtypes.py:528: FutureWarning: Passing (type, 1) or '1type' as a synonym of type is deprecated; in a future version of numpy, it will be understood as (type, (1,)) / '(1,)type'.\n",
      "  _np_qint16 = np.dtype([(\"qint16\", np.int16, 1)])\n",
      "C:\\Users\\harsh\\anaconda3\\lib\\site-packages\\tensorflow\\python\\framework\\dtypes.py:529: FutureWarning: Passing (type, 1) or '1type' as a synonym of type is deprecated; in a future version of numpy, it will be understood as (type, (1,)) / '(1,)type'.\n",
      "  _np_quint16 = np.dtype([(\"quint16\", np.uint16, 1)])\n",
      "C:\\Users\\harsh\\anaconda3\\lib\\site-packages\\tensorflow\\python\\framework\\dtypes.py:530: FutureWarning: Passing (type, 1) or '1type' as a synonym of type is deprecated; in a future version of numpy, it will be understood as (type, (1,)) / '(1,)type'.\n",
      "  _np_qint32 = np.dtype([(\"qint32\", np.int32, 1)])\n",
      "C:\\Users\\harsh\\anaconda3\\lib\\site-packages\\tensorflow\\python\\framework\\dtypes.py:535: FutureWarning: Passing (type, 1) or '1type' as a synonym of type is deprecated; in a future version of numpy, it will be understood as (type, (1,)) / '(1,)type'.\n",
      "  np_resource = np.dtype([(\"resource\", np.ubyte, 1)])\n"
     ]
    },
    {
     "name": "stdout",
     "output_type": "stream",
     "text": [
      "curses is not supported on this machine (please install/reinstall curses for an optimal experience)\n",
      "WARNING:tensorflow:From C:\\Users\\harsh\\anaconda3\\lib\\site-packages\\tensorflow\\python\\framework\\op_def_library.py:263: colocate_with (from tensorflow.python.framework.ops) is deprecated and will be removed in a future version.\n",
      "Instructions for updating:\n",
      "Colocations handled automatically by placer.\n"
     ]
    }
   ],
   "source": [
    "import cv2\n",
    "import numpy as np\n",
    "import tensorflow as tf\n",
    "from tensorflow import keras\n",
    "import os \n",
    "from tqdm import tqdm   \n",
    "import tflearn\n",
    "\n",
    "#tflearn works with tenhttp://localhost:8888/notebooks/Desktop/Facial%20Recognition%20Project%20Dignique%20Techlabs/Cnn.ipynb#tflearn-For-making-CNNsorflow 1.13.2\n",
    "#pip install tensorflow==1.13.2  because tflearn works with it\n",
    "#pip install tflearn\n"
   ]
  },
  {
   "cell_type": "markdown",
   "metadata": {},
   "source": [
    "# Image Augmentation\n",
    "# Making Dataset       \n",
    "# Don't run this code as dataset is already made."
   ]
  },
  {
   "cell_type": "code",
   "execution_count": null,
   "metadata": {},
   "outputs": [],
   "source": [
    "from keras.preprocessing.image import ImageDataGenerator, array_to_img, img_to_array, load_img \n",
    "import os\n",
    "   \n",
    "datagen = ImageDataGenerator(rotation_range = 40, shear_range = 0.2, \n",
    "                             zoom_range = 0.3, horizontal_flip = True,\n",
    "                             width_shift_range=0.1,\n",
    "                             height_shift_range=0.1,\n",
    "                             brightness_range = (0.5, 3.0)) \n",
    "    \n",
    "img_path=\"img\"\n",
    "images=[]            #appending all images in images list\n",
    "for im in os.listdir(img_path):\n",
    "    images.append(os.path.join(img_path,im))\n"
   ]
  },
  {
   "cell_type": "code",
   "execution_count": null,
   "metadata": {},
   "outputs": [],
   "source": [
    "for i in images:\n",
    "        img = load_img(i)    #loading \n",
    "        x = img_to_array(img) #converting image to array\n",
    "        x = x.reshape((1, ) + x.shape)  \n",
    "        i=0\n",
    "        for batch in datagen.flow(x, batch_size = 1,save_to_dir ='preview',save_prefix ='Navn', save_format ='jpeg'): \n",
    "            i += 1\n",
    "            if i > 139: \n",
    "                break"
   ]
  },
  {
   "cell_type": "markdown",
   "metadata": {},
   "source": [
    "# Location where Images are stored"
   ]
  },
  {
   "cell_type": "code",
   "execution_count": 2,
   "metadata": {},
   "outputs": [],
   "source": [
    "loc=r'preview'           #Image stored in Folder Named Preview\n"
   ]
  },
  {
   "cell_type": "markdown",
   "metadata": {},
   "source": [
    "# Extracting Labels"
   ]
  },
  {
   "cell_type": "code",
   "execution_count": 3,
   "metadata": {},
   "outputs": [],
   "source": [
    "\n",
    "label=[]          #label is list in which labels are extracted/appended.\n",
    "#os.listdir() is function used to list down all the files in directory \n",
    "\n",
    "for i in os.listdir(loc):\n",
    "    if i.split('_')[0]=='Moi':\n",
    "        label.append([0.0,0.0,0.0,1.0])   #one hot encoding \n",
    "    elif i.split('_')[0]=='Navn':         #due to categorical crossentropy\n",
    "        label.append([0.0,0.0,1.0,0.0])\n",
    "    if i.split('_')[0]=='Sahil':\n",
    "        label.append([0.0,1.0,0.0,0.0])\n",
    "    if i.split('_')[0]=='Hemu':\n",
    "        label.append([1.0,0.0,0.0,0.0])\n",
    "#we are separating labels using the concept of split\n"
   ]
  },
  {
   "cell_type": "markdown",
   "metadata": {},
   "source": [
    "# Extracting the features in grayscale\n",
    "Data set consist of 4228 images of 4 persons"
   ]
  },
  {
   "cell_type": "code",
   "execution_count": 4,
   "metadata": {},
   "outputs": [
    {
     "name": "stderr",
     "output_type": "stream",
     "text": [
      "100%|█████████████████████████████████████████████████████████████████████████████| 4228/4228 [00:18<00:00, 233.11it/s]\n"
     ]
    }
   ],
   "source": [
    "#features is list in which the features of respective images are appended \n",
    "features=[]\n",
    "for i in tqdm(os.listdir(loc)):\n",
    "    f=cv2.imread(os.path.join(loc,i),0)  #Image are read in grayscale\n",
    "    resized_f=cv2.resize(f,(70,70))   #resizing all images to 70*70\n",
    "    features.append(resized_f)\n",
    "    \n",
    "\n"
   ]
  },
  {
   "cell_type": "markdown",
   "metadata": {},
   "source": [
    "Converting Features and Label to Array so that we could pass them ,\n",
    "Here Reshape is used to convert data into 4d array so that we can pass data to input layer\n"
   ]
  },
  {
   "cell_type": "code",
   "execution_count": 5,
   "metadata": {},
   "outputs": [],
   "source": [
    "# divived by 255 to normalize the data \n",
    "X=np.array(features).reshape(4228,70,70,1)/255  #Array \n",
    "Y=np.array(label)              \n"
   ]
  },
  {
   "cell_type": "code",
   "execution_count": 6,
   "metadata": {},
   "outputs": [
    {
     "data": {
      "text/plain": [
       "(4228, 70, 70, 1)"
      ]
     },
     "execution_count": 6,
     "metadata": {},
     "output_type": "execute_result"
    }
   ],
   "source": [
    "X.shape            #Checking The Shape Of Data\n",
    "# current consist 4228 images of size (70*70*1)"
   ]
  },
  {
   "cell_type": "markdown",
   "metadata": {},
   "source": [
    "# Splitting the Data Set (test_size=0.3)"
   ]
  },
  {
   "cell_type": "code",
   "execution_count": 7,
   "metadata": {},
   "outputs": [],
   "source": [
    "from sklearn.model_selection import train_test_split\n",
    "xtrain,xtest,ytrain,ytest=train_test_split(X,Y,test_size=0.3)\n"
   ]
  },
  {
   "cell_type": "code",
   "execution_count": 8,
   "metadata": {},
   "outputs": [
    {
     "data": {
      "text/plain": [
       "(1269, 70, 70, 1)"
      ]
     },
     "execution_count": 8,
     "metadata": {},
     "output_type": "execute_result"
    }
   ],
   "source": [
    "xtest.shape          #shape of testing \n",
    "#i.e 1269 Images"
   ]
  },
  {
   "cell_type": "code",
   "execution_count": 9,
   "metadata": {},
   "outputs": [
    {
     "data": {
      "text/plain": [
       "(2959, 70, 70, 1)"
      ]
     },
     "execution_count": 9,
     "metadata": {},
     "output_type": "execute_result"
    }
   ],
   "source": [
    "xtrain.shape         #shape of training Dataset\n",
    "#i.e 2959 images"
   ]
  },
  {
   "cell_type": "markdown",
   "metadata": {},
   "source": [
    "# Declaring Learning Rate\n",
    "# Declaring Model Name"
   ]
  },
  {
   "cell_type": "code",
   "execution_count": 10,
   "metadata": {},
   "outputs": [],
   "source": [
    "\n",
    "LR=0.001            #Learing Rate\n",
    "MODEL_NAME = 'my-{}-{}.model'.format(LR, '2conv-basic') # just so we remember which save"
   ]
  },
  {
   "cell_type": "markdown",
   "metadata": {},
   "source": [
    "# Using Save Model (If Needed)"
   ]
  },
  {
   "cell_type": "code",
   "execution_count": 17,
   "metadata": {},
   "outputs": [
    {
     "name": "stdout",
     "output_type": "stream",
     "text": [
      "WARNING:tensorflow:From C:\\Users\\harsh\\anaconda3\\lib\\site-packages\\tensorflow\\python\\training\\saver.py:1266: checkpoint_exists (from tensorflow.python.training.checkpoint_management) is deprecated and will be removed in a future version.\n",
      "Instructions for updating:\n",
      "Use standard file APIs to check for files with this prefix.\n",
      "INFO:tensorflow:Restoring parameters from C:\\Users\\harsh\\Desktop\\Facial Recognition Project\\my-0.001-2conv-basic.model\n",
      "model loaded!\n"
     ]
    }
   ],
   "source": [
    "if os.path.exists('{}.meta'.format(MODEL_NAME)):           #Using Saved Model\n",
    "    model.load(MODEL_NAME)    #loading the model\n",
    "    print('model loaded!') \n"
   ]
  },
  {
   "cell_type": "markdown",
   "metadata": {},
   "source": [
    "# Importing Libraries Used for CNN\n",
    "# 1.conv_2d for  creating convolutional layer\n",
    "# 2.regression For Optimization\n",
    "# 3.max_pool_2d for pooling out maxpooling layer \n",
    "# 4.input_data for input \n",
    "# 5.dropout for Dropping out some weight if they are not needed\n",
    "# 6.fully_connected for full connected layers"
   ]
  },
  {
   "cell_type": "code",
   "execution_count": 11,
   "metadata": {},
   "outputs": [],
   "source": [
    "from tflearn.layers.conv import conv_2d, max_pool_2d\n",
    "from tflearn.layers.core import input_data, dropout ,fully_connected\n",
    "from tflearn.layers.estimator import regression"
   ]
  },
  {
   "cell_type": "markdown",
   "metadata": {},
   "source": [
    "# Defining Input Layer \n",
    "Format :conv=input_data(shape=[None,IMG_size,IMG_size,1],name='input')\n",
    "size of sample not known so none passed here"
   ]
  },
  {
   "cell_type": "code",
   "execution_count": 12,
   "metadata": {},
   "outputs": [],
   "source": [
    "conv=input_data(shape=[None,70,70,1],name='input') \n",
    "#None is used here to make it workable for dataset of any size\n",
    "#4D array passed as input to layer"
   ]
  },
  {
   "cell_type": "markdown",
   "metadata": {},
   "source": [
    "# Making Convolutional Layers\n",
    "# Max Pooling on Convolutional Layer\n",
    "# Total 6 Convolutional Layer\n",
    "66(Size of Layer) is wrt calculation of filter size 5\n",
    "\n"
   ]
  },
  {
   "cell_type": "code",
   "execution_count": 13,
   "metadata": {},
   "outputs": [
    {
     "name": "stdout",
     "output_type": "stream",
     "text": [
      "WARNING:tensorflow:From C:\\Users\\harsh\\anaconda3\\lib\\site-packages\\tflearn\\initializations.py:119: UniformUnitScaling.__init__ (from tensorflow.python.ops.init_ops) is deprecated and will be removed in a future version.\n",
      "Instructions for updating:\n",
      "Use tf.initializers.variance_scaling instead with distribution=uniform to get equivalent behavior.\n"
     ]
    }
   ],
   "source": [
    "conv=conv_2d(conv,66,5,activation='relu')\n",
    "conv=max_pool_2d(conv,5)\n",
    "\n",
    "conv=conv_2d(conv,62,5,activation='relu')\n",
    "conv=max_pool_2d(conv,5)\n",
    "\n",
    "conv=conv_2d(conv,58,5,activation='relu')\n",
    "conv=max_pool_2d(conv,5)\n",
    "\n",
    "conv=conv_2d(conv,54,5,activation='relu')\n",
    "conv=max_pool_2d(conv,5)\n",
    "\n",
    "conv=conv_2d(conv,50,5,activation='relu')\n",
    "conv=max_pool_2d(conv,5)\n",
    "\n",
    "\n",
    "\n",
    "conv=conv_2d(conv,46,5,activation='relu')\n",
    "conv=max_pool_2d(conv,5)"
   ]
  },
  {
   "cell_type": "markdown",
   "metadata": {},
   "source": [
    "# Defining Fully Connected Layer\n",
    "previous layer size was 46 so next layer=46-4=42\n",
    "Here size 1764=42*42"
   ]
  },
  {
   "cell_type": "code",
   "execution_count": 14,
   "metadata": {},
   "outputs": [],
   "source": [
    "conv=fully_connected(conv,1764 ,activation='relu')\n",
    "\n",
    "\n",
    "conv=fully_connected(conv,4,activation='softmax')\n"
   ]
  },
  {
   "cell_type": "markdown",
   "metadata": {},
   "source": [
    "# Compilation "
   ]
  },
  {
   "cell_type": "code",
   "execution_count": 15,
   "metadata": {},
   "outputs": [
    {
     "name": "stdout",
     "output_type": "stream",
     "text": [
      "WARNING:tensorflow:From C:\\Users\\harsh\\anaconda3\\lib\\site-packages\\tflearn\\objectives.py:66: calling reduce_sum_v1 (from tensorflow.python.ops.math_ops) with keep_dims is deprecated and will be removed in a future version.\n",
      "Instructions for updating:\n",
      "keep_dims is deprecated, use keepdims instead\n"
     ]
    }
   ],
   "source": [
    "conv=regression(conv,optimizer='adam',learning_rate=LR,\n",
    "               loss='categorical_crossentropy',name='targets')\n"
   ]
  },
  {
   "cell_type": "markdown",
   "metadata": {},
   "source": [
    "# Defining the  model"
   ]
  },
  {
   "cell_type": "code",
   "execution_count": 16,
   "metadata": {},
   "outputs": [
    {
     "name": "stdout",
     "output_type": "stream",
     "text": [
      "WARNING:tensorflow:From C:\\Users\\harsh\\anaconda3\\lib\\site-packages\\tensorflow\\python\\ops\\math_ops.py:3066: to_int32 (from tensorflow.python.ops.math_ops) is deprecated and will be removed in a future version.\n",
      "Instructions for updating:\n",
      "Use tf.cast instead.\n"
     ]
    }
   ],
   "source": [
    "\n",
    "model=tflearn.DNN(conv)\n"
   ]
  },
  {
   "cell_type": "markdown",
   "metadata": {},
   "source": [
    "# Fitting the model"
   ]
  },
  {
   "cell_type": "code",
   "execution_count": 18,
   "metadata": {},
   "outputs": [
    {
     "name": "stdout",
     "output_type": "stream",
     "text": [
      "Training Step: 845  | total loss: \u001b[1m\u001b[32m0.14545\u001b[0m\u001b[0m | time: 31.755s\n",
      "| Adam | epoch: 001 | loss: 0.14545 - acc: 0.9569 -- iter: 2944/2959\n",
      "Training Step: 846  | total loss: \u001b[1m\u001b[32m0.13914\u001b[0m\u001b[0m | time: 36.552s\n",
      "| Adam | epoch: 001 | loss: 0.13914 - acc: 0.9581 | val_loss: 0.11454 - val_acc: 0.9606 -- iter: 2959/2959\n",
      "--\n"
     ]
    }
   ],
   "source": [
    "history=model.fit({'input': xtrain}, {'targets': ytrain}\n",
    "         ,n_epoch=17,\n",
    "         validation_set=({'input':xtest},{'targets':ytest}),\n",
    "         show_metric=True)"
   ]
  },
  {
   "cell_type": "markdown",
   "metadata": {},
   "source": [
    "# Training Accuracy of 95 %\n",
    "# Testing accuracy of 90 %"
   ]
  },
  {
   "cell_type": "markdown",
   "metadata": {},
   "source": [
    "# Saving the model for future purpose"
   ]
  },
  {
   "cell_type": "code",
   "execution_count": null,
   "metadata": {},
   "outputs": [],
   "source": [
    "model.save(MODEL_NAME) "
   ]
  },
  {
   "cell_type": "markdown",
   "metadata": {},
   "source": [
    "# Predicting test cases (Checking Manually)"
   ]
  },
  {
   "cell_type": "code",
   "execution_count": 19,
   "metadata": {},
   "outputs": [
    {
     "name": "stdout",
     "output_type": "stream",
     "text": [
      "Sahil\n"
     ]
    }
   ],
   "source": [
    "d=xtest[10].reshape(1,70,70,1)\n",
    "predtn=np.argmax(model.predict(d))\n",
    "if predtn==0:               #np.argmax returns index of maximum argument\n",
    "   print(\"Hemant\")          #model.predict predicts the category\n",
    "if predtn==1:\n",
    "   print(\"Sahil\") \n",
    "if predtn==2:\n",
    "   print(\"Navneet\") \n",
    "if predtn==3:\n",
    "   print(\"Moi\") \n"
   ]
  },
  {
   "cell_type": "code",
   "execution_count": 20,
   "metadata": {},
   "outputs": [
    {
     "data": {
      "text/plain": [
       "array([0., 1., 0., 0.])"
      ]
     },
     "execution_count": 20,
     "metadata": {},
     "output_type": "execute_result"
    }
   ],
   "source": [
    "ytest[10]   #correct Predicition"
   ]
  },
  {
   "cell_type": "code",
   "execution_count": 21,
   "metadata": {},
   "outputs": [
    {
     "data": {
      "text/plain": [
       "<matplotlib.image.AxesImage at 0x28393000188>"
      ]
     },
     "execution_count": 21,
     "metadata": {},
     "output_type": "execute_result"
    },
    {
     "data": {
      "image/png": "[encoded data removed]",
      "text/plain": [
       "<Figure size 432x288 with 1 Axes>"
      ]
     },
     "metadata": {
      "needs_background": "light"
     },
     "output_type": "display_data"
    }
   ],
   "source": [
    "import matplotlib.pyplot as plt\n",
    "plt.imshow(xtest[10].reshape(70,70))"
   ]
  },
  {
   "cell_type": "markdown",
   "metadata": {},
   "source": [
    "# Prediction of new cases"
   ]
  },
  {
   "cell_type": "code",
   "execution_count": 22,
   "metadata": {},
   "outputs": [],
   "source": [
    "lc=r'Predict'    #new images are stored in folder named predict \n",
    "\n",
    "pred=[]      #we are extracting that in list named pred\n",
    "for i in os.listdir(lc):\n",
    "    p=cv2.imread(os.path.join(lc,i),0)\n",
    "    resized_p=cv2.resize(p,(70,70))   #resizing all imgaes\n",
    "    pred.append(resized_p)     #appending current features\n",
    "    \n",
    "\n",
    "\n",
    "pred=np.array(pred)/255     #divided  by 255 to normalize the data\n",
    "\n",
    "    \n"
   ]
  },
  {
   "cell_type": "code",
   "execution_count": 23,
   "metadata": {},
   "outputs": [
    {
     "name": "stdout",
     "output_type": "stream",
     "text": [
      "Hemant\n"
     ]
    }
   ],
   "source": [
    "predtn=np.argmax(model.predict(pred[2].reshape(1,70,70,1)))\n",
    "if predtn==0:\n",
    "   print(\"Hemant\") \n",
    "if predtn==1:\n",
    "   print(\"Sahil\") \n",
    "if predtn==2:\n",
    "   print(\"Navneet\") \n",
    "if predtn==3:\n",
    "   print(\"Moi\")"
   ]
  },
  {
   "cell_type": "code",
   "execution_count": 26,
   "metadata": {},
   "outputs": [
    {
     "data": {
      "text/plain": [
       "<matplotlib.image.AxesImage at 0x2839318cf48>"
      ]
     },
     "execution_count": 26,
     "metadata": {},
     "output_type": "execute_result"
    },
    {
     "data": {
      "image/png": "[encoded data removed]",
      "text/plain": [
       "<Figure size 432x288 with 1 Axes>"
      ]
     },
     "metadata": {
      "needs_background": "light"
     },
     "output_type": "display_data"
    }
   ],
   "source": [
    "import matplotlib.pyplot as plt\n",
    "\n",
    "plt.imshow(pred[2])    "
   ]
  },
  {
   "cell_type": "code",
   "execution_count": 27,
   "metadata": {},
   "outputs": [],
   "source": [
    "#correct prediciton"
   ]
  },
  {
   "cell_type": "markdown",
   "metadata": {},
   "source": [
    "#  Saving code As HTML FILE"
   ]
  },
  {
   "cell_type": "code",
   "execution_count": 32,
   "metadata": {},
   "outputs": [
    {
     "name": "stderr",
     "output_type": "stream",
     "text": [
      "[NbConvertApp] Converting notebook Cnn.ipynb to html\n",
      "[NbConvertApp] Writing 390075 bytes to Cnn.html\n"
     ]
    }
   ],
   "source": [
    "! jupyter nbconvert --to html Cnn"
   ]
  },
  {
   "cell_type": "markdown",
   "metadata": {},
   "source": [
    "# GUI of Project\n",
    "# GUI made using Tkinter and PIL library and using the saved model to predict"
   ]
  },
  {
   "cell_type": "code",
   "execution_count": 29,
   "metadata": {},
   "outputs": [
    {
     "name": "stderr",
     "output_type": "stream",
     "text": [
      "Using TensorFlow backend.\n"
     ]
    },
    {
     "name": "stdout",
     "output_type": "stream",
     "text": [
      "INFO:tensorflow:Restoring parameters from C:\\Users\\harsh\\Desktop\\Facial Recognition Project\\my-0.001-2conv-basic.model\n",
      "(1, 70, 70, 1)\n",
      "Hemant\n"
     ]
    }
   ],
   "source": [
    "\n",
    "#Created on Mon Jun 29 01:00:56 2020\n",
    "\n",
    "#@author: Hemant\n",
    "\n",
    "LR=0.001\n",
    "MODEL_NAME = 'my-{}-{}.model'.format(LR, '2conv-basic') # just so we remember which save\n",
    "import tkinter as tk             \n",
    "from tkinter import filedialog\n",
    "from tkinter import *\n",
    "from PIL import ImageTk, Image,ImageOps \n",
    "import numpy\n",
    "import tensorflow as tf\n",
    "#load the trained model to classify persons\n",
    "from keras.models import load_model\n",
    "#if os.path.exists('{}.meta'.format(MODEL_NAME)):\n",
    " #   model.load(MODEL_NAME)\n",
    "  #  print('model loaded!')\n",
    "\n",
    "model.load(MODEL_NAME)\n",
    "#dictionary to label all Persons.\n",
    "classes = { 1:'Hemant',\n",
    "            2:'Sahil', \n",
    "            3:'Navneet', \n",
    "            4:'Moi', \n",
    "  }\n",
    "#initialise GUI\n",
    "top=tk.Tk()\n",
    "top.geometry('800x600')\n",
    "top.title('Image Classification')\n",
    "top.configure(background='#00ffff')\n",
    "label=Label(top,background='#CDCDCD', font=('arial',15,'bold'))\n",
    "sign_image = Label(top)\n",
    "def classify(file_path):\n",
    "    global label_packed\n",
    "    \n",
    "    image = Image.open(file_path)\n",
    "    p=cv2.imread(file_path,0)\n",
    "    resized_p=cv2.resize(p,(70,70)) \n",
    "    #image=cv2.imread(file_path,0)\n",
    "    #image = ImageOps.greyscale(image) \n",
    "    #image = image.resize((70,70))\n",
    "    \n",
    "\n",
    "    #image = numpy.expand_dims(resized_p, axis=0)\n",
    "    image = numpy.array(resized_p).reshape(1,70,70,1)\n",
    "    image=image/255\n",
    "    print(image.shape)\n",
    "    #image=image.reshape(70,70,1)\n",
    "    \n",
    "    \n",
    "    pred =np.argmax(model.predict(image)[0])\n",
    "    sign = classes[pred+1]\n",
    "    print(sign)\n",
    "    label.configure(foreground='#011638', text=sign) \n",
    "def show_classify_button(file_path):\n",
    "    classify_b=Button(top,text=\"Classify Image\",command=lambda: classify(file_path),padx=10,pady=5)\n",
    "    classify_b.configure(background='#364156', foreground='white',font=('arial',10,'bold'))\n",
    "    classify_b.place(relx=0.79,rely=0.46)\n",
    "def upload_image():\n",
    "    try:\n",
    "        file_path=filedialog.askopenfilename()\n",
    "        uploaded=Image.open(file_path)\n",
    "        uploaded.thumbnail(((top.winfo_width()/2.25),(top.winfo_height()/2.25)))\n",
    "        im=ImageTk.PhotoImage(uploaded)\n",
    "        sign_image.configure(image=im)\n",
    "        sign_image.image=im\n",
    "        label.configure(text='')\n",
    "        show_classify_button(file_path)\n",
    "    except:\n",
    "        pass\n",
    "upload=Button(top,text=\"Upload an image\",command=upload_image,padx=10,pady=5)\n",
    "upload.configure(background='#364156', foreground='white',font=('arial',10,'bold'))\n",
    "upload.pack(side=BOTTOM,pady=50)\n",
    "sign_image.pack(side=BOTTOM,expand=True)\n",
    "label.pack(side=BOTTOM,expand=True)\n",
    "heading = Label(top, text=\"Guess Name\",pady=20, font=('arial',23,'bold'))\n",
    "heading.configure(background='#CDCDCD',foreground='#364156')\n",
    "heading.pack()\n",
    "top.mainloop()\n",
    "    "
   ]
  },
  {
   "cell_type": "code",
   "execution_count": null,
   "metadata": {},
   "outputs": [],
   "source": []
  },
  {
   "cell_type": "code",
   "execution_count": null,
   "metadata": {},
   "outputs": [],
   "source": []
  }
 ],
 "metadata": {
  "kernelspec": {
   "display_name": "Python 3",
   "language": "python",
   "name": "python3"
  },
  "language_info": {
   "codemirror_mode": {
    "name": "ipython",
    "version": 3
   },
   "file_extension": ".py",
   "mimetype": "text/x-python",
   "name": "python",
   "nbconvert_exporter": "python",
   "pygments_lexer": "ipython3",
   "version": "3.7.7"
  }
 },
 "nbformat": 4,
 "nbformat_minor": 4
}
